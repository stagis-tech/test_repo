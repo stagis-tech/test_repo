{
  "nbformat": 4,
  "nbformat_minor": 0,
  "metadata": {
    "colab": {
      "name": "Kopie von Corona_CH.ipynb",
      "provenance": [],
      "include_colab_link": true
    },
    "kernelspec": {
      "name": "python3",
      "display_name": "Python 3"
    }
  },
  "cells": [
    {
      "cell_type": "markdown",
      "metadata": {
        "id": "view-in-github",
        "colab_type": "text"
      },
      "source": [
        "<a href=\"https://colab.research.google.com/github/stagis-tech/test_repo/blob/main/testvonclaus.ipynb\" target=\"_parent\"><img src=\"https://colab.research.google.com/assets/colab-badge.svg\" alt=\"Open In Colab\"/></a>"
      ]
    },
    {
      "cell_type": "code",
      "metadata": {
        "id": "wMy_XFP4GArM"
      },
      "source": [
        "import pandas as pd"
      ],
      "execution_count": null,
      "outputs": []
    },
    {
      "cell_type": "code",
      "metadata": {
        "id": "r-TQuxVJHTrl"
      },
      "source": [
        "df = pd.read_excel('https://www.bag.admin.ch/dam/bag/de/dokumente/mt/k-und-i/aktuelle-ausbrueche-pandemien/2019-nCoV/covid-19-datengrundlage-lagebericht.xlsx.download.xlsx/200325_Datengrundlage_Grafiken_COVID-19-Bericht.xlsx', skiprows=6)"
      ],
      "execution_count": null,
      "outputs": []
    },
    {
      "cell_type": "code",
      "metadata": {
        "id": "LNIEkzfXKOBK",
        "outputId": "8ece88cc-879b-4cbf-a2da-9f0d616e6739",
        "colab": {
          "base_uri": "https://localhost:8080/",
          "height": 441
        }
      },
      "source": [
        "df"
      ],
      "execution_count": null,
      "outputs": [
        {
          "output_type": "execute_result",
          "data": {
            "text/html": [
              "<div>\n",
              "<style scoped>\n",
              "    .dataframe tbody tr th:only-of-type {\n",
              "        vertical-align: middle;\n",
              "    }\n",
              "\n",
              "    .dataframe tbody tr th {\n",
              "        vertical-align: top;\n",
              "    }\n",
              "\n",
              "    .dataframe thead th {\n",
              "        text-align: right;\n",
              "    }\n",
              "</style>\n",
              "<table border=\"1\" class=\"dataframe\">\n",
              "  <thead>\n",
              "    <tr style=\"text-align: right;\">\n",
              "      <th></th>\n",
              "      <th>Datum</th>\n",
              "      <th>Fallzahlen pro Tag</th>\n",
              "      <th>Fallzahlen pro Tag, kumuliert</th>\n",
              "      <th>Hospitalisationen pro Tag</th>\n",
              "      <th>Hospitalisationen pro Tag, Kumuliert</th>\n",
              "      <th>Todesfälle pro Tag</th>\n",
              "      <th>Todesfälle pro Tag, kumuliert</th>\n",
              "    </tr>\n",
              "  </thead>\n",
              "  <tbody>\n",
              "    <tr>\n",
              "      <th>0</th>\n",
              "      <td>2020-02-24</td>\n",
              "      <td>1</td>\n",
              "      <td>1</td>\n",
              "      <td>5</td>\n",
              "      <td>5</td>\n",
              "      <td>NaN</td>\n",
              "      <td>NaN</td>\n",
              "    </tr>\n",
              "    <tr>\n",
              "      <th>1</th>\n",
              "      <td>2020-02-25</td>\n",
              "      <td>1</td>\n",
              "      <td>2</td>\n",
              "      <td>4</td>\n",
              "      <td>9</td>\n",
              "      <td>NaN</td>\n",
              "      <td>NaN</td>\n",
              "    </tr>\n",
              "    <tr>\n",
              "      <th>2</th>\n",
              "      <td>2020-02-26</td>\n",
              "      <td>10</td>\n",
              "      <td>12</td>\n",
              "      <td>9</td>\n",
              "      <td>18</td>\n",
              "      <td>NaN</td>\n",
              "      <td>NaN</td>\n",
              "    </tr>\n",
              "    <tr>\n",
              "      <th>3</th>\n",
              "      <td>2020-02-27</td>\n",
              "      <td>11</td>\n",
              "      <td>23</td>\n",
              "      <td>4</td>\n",
              "      <td>22</td>\n",
              "      <td>NaN</td>\n",
              "      <td>NaN</td>\n",
              "    </tr>\n",
              "    <tr>\n",
              "      <th>4</th>\n",
              "      <td>2020-02-28</td>\n",
              "      <td>10</td>\n",
              "      <td>33</td>\n",
              "      <td>5</td>\n",
              "      <td>27</td>\n",
              "      <td>NaN</td>\n",
              "      <td>NaN</td>\n",
              "    </tr>\n",
              "    <tr>\n",
              "      <th>...</th>\n",
              "      <td>...</td>\n",
              "      <td>...</td>\n",
              "      <td>...</td>\n",
              "      <td>...</td>\n",
              "      <td>...</td>\n",
              "      <td>...</td>\n",
              "      <td>...</td>\n",
              "    </tr>\n",
              "    <tr>\n",
              "      <th>245</th>\n",
              "      <td>2020-10-26</td>\n",
              "      <td>9923</td>\n",
              "      <td>134029</td>\n",
              "      <td>140</td>\n",
              "      <td>6506</td>\n",
              "      <td>12.0</td>\n",
              "      <td>1966.0</td>\n",
              "    </tr>\n",
              "    <tr>\n",
              "      <th>246</th>\n",
              "      <td>2020-10-27</td>\n",
              "      <td>9313</td>\n",
              "      <td>143342</td>\n",
              "      <td>108</td>\n",
              "      <td>6614</td>\n",
              "      <td>30.0</td>\n",
              "      <td>1996.0</td>\n",
              "    </tr>\n",
              "    <tr>\n",
              "      <th>247</th>\n",
              "      <td>2020-10-28</td>\n",
              "      <td>7478</td>\n",
              "      <td>150820</td>\n",
              "      <td>71</td>\n",
              "      <td>6685</td>\n",
              "      <td>24.0</td>\n",
              "      <td>2020.0</td>\n",
              "    </tr>\n",
              "    <tr>\n",
              "      <th>248</th>\n",
              "      <td>2020-10-29</td>\n",
              "      <td>3417</td>\n",
              "      <td>154237</td>\n",
              "      <td>22</td>\n",
              "      <td>6707</td>\n",
              "      <td>17.0</td>\n",
              "      <td>2037.0</td>\n",
              "    </tr>\n",
              "    <tr>\n",
              "      <th>249</th>\n",
              "      <td>2020-10-30</td>\n",
              "      <td>14</td>\n",
              "      <td>154251</td>\n",
              "      <td>0</td>\n",
              "      <td>6707</td>\n",
              "      <td>0.0</td>\n",
              "      <td>2037.0</td>\n",
              "    </tr>\n",
              "  </tbody>\n",
              "</table>\n",
              "<p>250 rows × 7 columns</p>\n",
              "</div>"
            ],
            "text/plain": [
              "         Datum  ...  Todesfälle pro Tag, kumuliert\n",
              "0   2020-02-24  ...                            NaN\n",
              "1   2020-02-25  ...                            NaN\n",
              "2   2020-02-26  ...                            NaN\n",
              "3   2020-02-27  ...                            NaN\n",
              "4   2020-02-28  ...                            NaN\n",
              "..         ...  ...                            ...\n",
              "245 2020-10-26  ...                         1966.0\n",
              "246 2020-10-27  ...                         1996.0\n",
              "247 2020-10-28  ...                         2020.0\n",
              "248 2020-10-29  ...                         2037.0\n",
              "249 2020-10-30  ...                         2037.0\n",
              "\n",
              "[250 rows x 7 columns]"
            ]
          },
          "metadata": {
            "tags": []
          },
          "execution_count": 3
        }
      ]
    },
    {
      "cell_type": "code",
      "metadata": {
        "id": "PNH96PZPLRXj",
        "outputId": "04ccc726-8290-40d7-d3b5-52bc98bb0c27",
        "colab": {
          "base_uri": "https://localhost:8080/",
          "height": 317
        }
      },
      "source": [
        "df.describe()"
      ],
      "execution_count": null,
      "outputs": [
        {
          "output_type": "execute_result",
          "data": {
            "text/html": [
              "<div>\n",
              "<style scoped>\n",
              "    .dataframe tbody tr th:only-of-type {\n",
              "        vertical-align: middle;\n",
              "    }\n",
              "\n",
              "    .dataframe tbody tr th {\n",
              "        vertical-align: top;\n",
              "    }\n",
              "\n",
              "    .dataframe thead th {\n",
              "        text-align: right;\n",
              "    }\n",
              "</style>\n",
              "<table border=\"1\" class=\"dataframe\">\n",
              "  <thead>\n",
              "    <tr style=\"text-align: right;\">\n",
              "      <th></th>\n",
              "      <th>Fallzahlen pro Tag</th>\n",
              "      <th>Fallzahlen pro Tag, kumuliert</th>\n",
              "      <th>Hospitalisationen pro Tag</th>\n",
              "      <th>Hospitalisationen pro Tag, Kumuliert</th>\n",
              "      <th>Todesfälle pro Tag</th>\n",
              "      <th>Todesfälle pro Tag, kumuliert</th>\n",
              "    </tr>\n",
              "  </thead>\n",
              "  <tbody>\n",
              "    <tr>\n",
              "      <th>count</th>\n",
              "      <td>250.000000</td>\n",
              "      <td>250.000000</td>\n",
              "      <td>250.000000</td>\n",
              "      <td>250.000000</td>\n",
              "      <td>240.000000</td>\n",
              "      <td>240.000000</td>\n",
              "    </tr>\n",
              "    <tr>\n",
              "      <th>mean</th>\n",
              "      <td>617.004000</td>\n",
              "      <td>37052.500000</td>\n",
              "      <td>26.828000</td>\n",
              "      <td>3780.576000</td>\n",
              "      <td>8.487500</td>\n",
              "      <td>1480.508333</td>\n",
              "    </tr>\n",
              "    <tr>\n",
              "      <th>std</th>\n",
              "      <td>1411.609801</td>\n",
              "      <td>25644.103265</td>\n",
              "      <td>41.050249</td>\n",
              "      <td>1427.728374</td>\n",
              "      <td>14.550728</td>\n",
              "      <td>537.335944</td>\n",
              "    </tr>\n",
              "    <tr>\n",
              "      <th>min</th>\n",
              "      <td>1.000000</td>\n",
              "      <td>1.000000</td>\n",
              "      <td>0.000000</td>\n",
              "      <td>5.000000</td>\n",
              "      <td>0.000000</td>\n",
              "      <td>2.000000</td>\n",
              "    </tr>\n",
              "    <tr>\n",
              "      <th>25%</th>\n",
              "      <td>47.000000</td>\n",
              "      <td>29358.250000</td>\n",
              "      <td>5.000000</td>\n",
              "      <td>3824.250000</td>\n",
              "      <td>0.000000</td>\n",
              "      <td>1605.750000</td>\n",
              "    </tr>\n",
              "    <tr>\n",
              "      <th>50%</th>\n",
              "      <td>177.000000</td>\n",
              "      <td>31689.000000</td>\n",
              "      <td>8.500000</td>\n",
              "      <td>4013.500000</td>\n",
              "      <td>1.000000</td>\n",
              "      <td>1695.000000</td>\n",
              "    </tr>\n",
              "    <tr>\n",
              "      <th>75%</th>\n",
              "      <td>435.500000</td>\n",
              "      <td>42131.000000</td>\n",
              "      <td>24.500000</td>\n",
              "      <td>4427.500000</td>\n",
              "      <td>8.000000</td>\n",
              "      <td>1731.250000</td>\n",
              "    </tr>\n",
              "    <tr>\n",
              "      <th>max</th>\n",
              "      <td>9923.000000</td>\n",
              "      <td>154251.000000</td>\n",
              "      <td>207.000000</td>\n",
              "      <td>6707.000000</td>\n",
              "      <td>60.000000</td>\n",
              "      <td>2037.000000</td>\n",
              "    </tr>\n",
              "  </tbody>\n",
              "</table>\n",
              "</div>"
            ],
            "text/plain": [
              "       Fallzahlen pro Tag  ...  Todesfälle pro Tag, kumuliert\n",
              "count          250.000000  ...                     240.000000\n",
              "mean           617.004000  ...                    1480.508333\n",
              "std           1411.609801  ...                     537.335944\n",
              "min              1.000000  ...                       2.000000\n",
              "25%             47.000000  ...                    1605.750000\n",
              "50%            177.000000  ...                    1695.000000\n",
              "75%            435.500000  ...                    1731.250000\n",
              "max           9923.000000  ...                    2037.000000\n",
              "\n",
              "[8 rows x 6 columns]"
            ]
          },
          "metadata": {
            "tags": []
          },
          "execution_count": 4
        }
      ]
    },
    {
      "cell_type": "code",
      "metadata": {
        "id": "-CBV6DEBLpc5",
        "outputId": "5d74f0d1-c940-4f1a-afbb-2d1399ffa9e9",
        "colab": {
          "base_uri": "https://localhost:8080/"
        }
      },
      "source": [
        "df ['Fallzahlen pro Tag']"
      ],
      "execution_count": null,
      "outputs": [
        {
          "output_type": "execute_result",
          "data": {
            "text/plain": [
              "0         1\n",
              "1         1\n",
              "2        10\n",
              "3        11\n",
              "4        10\n",
              "       ... \n",
              "245    9923\n",
              "246    9313\n",
              "247    7478\n",
              "248    3417\n",
              "249      14\n",
              "Name: Fallzahlen pro Tag, Length: 250, dtype: int64"
            ]
          },
          "metadata": {
            "tags": []
          },
          "execution_count": 5
        }
      ]
    },
    {
      "cell_type": "code",
      "metadata": {
        "id": "c4mYa4fPMsMj",
        "outputId": "2a7af916-e830-4c18-8ba5-4bd6b23423f0",
        "colab": {
          "base_uri": "https://localhost:8080/"
        }
      },
      "source": [
        "df ['Fallzahlen pro Tag']. iloc [-1]"
      ],
      "execution_count": null,
      "outputs": [
        {
          "output_type": "execute_result",
          "data": {
            "text/plain": [
              "14"
            ]
          },
          "metadata": {
            "tags": []
          },
          "execution_count": 6
        }
      ]
    },
    {
      "cell_type": "code",
      "metadata": {
        "id": "gZ3GReh1M4q9",
        "outputId": "51062372-8103-4f6f-eadd-ae505ada8aaf",
        "colab": {
          "base_uri": "https://localhost:8080/"
        }
      },
      "source": [
        "df ['Fallzahlen pro Tag']. sum ()"
      ],
      "execution_count": null,
      "outputs": [
        {
          "output_type": "execute_result",
          "data": {
            "text/plain": [
              "154251"
            ]
          },
          "metadata": {
            "tags": []
          },
          "execution_count": 7
        }
      ]
    },
    {
      "cell_type": "code",
      "metadata": {
        "id": "rV5xMWavNJjQ",
        "outputId": "03bfd250-3514-4ead-e15d-fc36bded650a",
        "colab": {
          "base_uri": "https://localhost:8080/"
        }
      },
      "source": [
        "df ['Fallzahlen pro Tag']. mean ()"
      ],
      "execution_count": null,
      "outputs": [
        {
          "output_type": "execute_result",
          "data": {
            "text/plain": [
              "617.004"
            ]
          },
          "metadata": {
            "tags": []
          },
          "execution_count": 8
        }
      ]
    },
    {
      "cell_type": "code",
      "metadata": {
        "id": "FYuVJ_CINYXY",
        "outputId": "58a034ab-3113-4791-92a9-600ee0621ffa",
        "colab": {
          "base_uri": "https://localhost:8080/",
          "height": 284
        }
      },
      "source": [
        "df ['Fallzahlen pro Tag'].plot.line ()"
      ],
      "execution_count": null,
      "outputs": [
        {
          "output_type": "execute_result",
          "data": {
            "text/plain": [
              "<matplotlib.axes._subplots.AxesSubplot at 0x7f1106e79320>"
            ]
          },
          "metadata": {
            "tags": []
          },
          "execution_count": 9
        },
        {
          "output_type": "display_data",
          "data": {
            "image/png": "[encoded data removed]",
            "text/plain": [
              "<Figure size 432x288 with 1 Axes>"
            ]
          },
          "metadata": {
            "tags": [],
            "needs_background": "light"
          }
        }
      ]
    },
    {
      "cell_type": "code",
      "metadata": {
        "id": "x_zLWBHjNueI",
        "outputId": "80698c66-5ea7-4d28-ec0e-890e1d661897",
        "colab": {
          "base_uri": "https://localhost:8080/",
          "height": 284
        }
      },
      "source": [
        "df ['Fallzahlen pro Tag'].plot.hist ()"
      ],
      "execution_count": null,
      "outputs": [
        {
          "output_type": "execute_result",
          "data": {
            "text/plain": [
              "<matplotlib.axes._subplots.AxesSubplot at 0x7f1106d4c6d8>"
            ]
          },
          "metadata": {
            "tags": []
          },
          "execution_count": 10
        },
        {
          "output_type": "display_data",
          "data": {
            "image/png": "[encoded data removed]",
            "text/plain": [
              "<Figure size 432x288 with 1 Axes>"
            ]
          },
          "metadata": {
            "tags": [],
            "needs_background": "light"
          }
        }
      ]
    },
    {
      "cell_type": "code",
      "metadata": {
        "id": "XuMBTzs3Nu5u",
        "outputId": "2aac8070-cfb6-4c5d-ee65-c07a408c21e9",
        "colab": {
          "base_uri": "https://localhost:8080/"
        }
      },
      "source": [
        "df['Fallzahlen pro Tag, kumuliert'].iloc[-1]"
      ],
      "execution_count": null,
      "outputs": [
        {
          "output_type": "execute_result",
          "data": {
            "text/plain": [
              "154251"
            ]
          },
          "metadata": {
            "tags": []
          },
          "execution_count": 11
        }
      ]
    },
    {
      "cell_type": "code",
      "metadata": {
        "id": "RMZSDcMtPvSj",
        "outputId": "f0f0fd75-68b9-4961-f895-c7ae943be41d",
        "colab": {
          "base_uri": "https://localhost:8080/"
        }
      },
      "source": [
        "df['Todesfälle pro Tag, kumuliert'].iloc[-1]"
      ],
      "execution_count": null,
      "outputs": [
        {
          "output_type": "execute_result",
          "data": {
            "text/plain": [
              "2037.0"
            ]
          },
          "metadata": {
            "tags": []
          },
          "execution_count": 12
        }
      ]
    },
    {
      "cell_type": "code",
      "metadata": {
        "id": "ASSG_PDbP4F7",
        "outputId": "07b5a77b-5c82-435b-96c8-a73e5c92e967",
        "colab": {
          "base_uri": "https://localhost:8080/"
        }
      },
      "source": [
        "df['Todesfälle pro Tag, kumuliert'].iloc[-1] / df['Fallzahlen pro Tag, kumuliert'].iloc[-1] * 100"
      ],
      "execution_count": null,
      "outputs": [
        {
          "output_type": "execute_result",
          "data": {
            "text/plain": [
              "1.3205749071318824"
            ]
          },
          "metadata": {
            "tags": []
          },
          "execution_count": 13
        }
      ]
    },
    {
      "cell_type": "code",
      "metadata": {
        "id": "Y7iCtJsGQTjq"
      },
      "source": [
        "df ['bevoelkerung'] = 8606033"
      ],
      "execution_count": null,
      "outputs": []
    },
    {
      "cell_type": "code",
      "metadata": {
        "id": "h4jbmoalQYJd"
      },
      "source": [
        "df['inzidenz'] = df ['Fallzahlen pro Tag, kumuliert'] / df ['bevoelkerung'] * 100000"
      ],
      "execution_count": null,
      "outputs": []
    },
    {
      "cell_type": "code",
      "metadata": {
        "id": "Tnf0qh0jwK0_"
      },
      "source": [
        "Datum = df['Datum'].iloc[-1]\n",
        "Neuinfektionen_heute = df['Fallzahlen pro Tag'].iloc[-1]\n",
        "Hospitalisationen_heute = df['Hospitalisationen pro Tag'].iloc[-1]\n",
        "Todesfälle_heute = df['Todesfälle pro Tag'].iloc[-1]\n",
        "\n",
        "Durchschnitt_Woche_Neuinfektionen = df['Fallzahlen pro Tag'].iloc[-7:].mean()\n",
        "Durchschnitt_Woche_Hospitalisationen = df['Hospitalisationen pro Tag'].iloc[-7:].mean()\n",
        "Durchschnitt_Woche_Todesfälle = df['Todesfälle pro Tag'].iloc[-7:].mean()\n",
        "\n",
        "Infektionen_Total = df['Fallzahlen pro Tag, kumuliert'].iloc[-1]\n",
        "Hospitalisationen_Total = df['Hospitalisationen pro Tag, Kumuliert'].iloc[-1]\n",
        "Todesfälle_Total = df['Todesfälle pro Tag, kumuliert'].iloc[-1]\n",
        "\n",
        "\n",
        "\n"
      ],
      "execution_count": null,
      "outputs": []
    },
    {
      "cell_type": "code",
      "metadata": {
        "id": "df7EeAMZxaqW"
      },
      "source": [
        "Mein_Text = \"Heute {} meldet das Bundesamt für Gesundheit BAG für die vergangenen 24 Stunden {} Neuinfektionen mit dem Coronavirus. {} Personen mussten hospitalisiert werden. {} Personen verstarben an Covid-19. In den letzten 7 Tagen gab es durchschnittlich {} Neuinfektionen pro Tag, {} Personen mussten hospitalisiert werden und {} Menschen verstarben. Seit Beginn der Pandemie infizierten sich {} Menschen. Es wurden gesamthaft {} Personen hospitalisiert und {} Menschen verstarben.\".format(Datum, Neuinfektionen_heute, Hospitalisationen_heute, Todesfälle_heute, Durchschnitt_Woche_Neuinfektionen, Durchschnitt_Woche_Hospitalisationen, Durchschnitt_Woche_Todesfälle, Infektionen_Total, Hospitalisationen_Total, Todesfälle_Total)"
      ],
      "execution_count": null,
      "outputs": []
    },
    {
      "cell_type": "code",
      "metadata": {
        "id": "iHM0OgscyKZ1",
        "outputId": "709580f9-da9f-4bd0-d25c-6a55cb4f01b8",
        "colab": {
          "base_uri": "https://localhost:8080/"
        }
      },
      "source": [
        "print (Mein_Text)"
      ],
      "execution_count": null,
      "outputs": [
        {
          "output_type": "stream",
          "text": [
            "Heute 2020-10-30 00:00:00 meldet das Bundesamt für Gesundheit BAG für die vergangenen 24 Stunden 14 Neuinfektionen mit dem Coronavirus. 0 Personen mussten hospitalisiert werden. 0.0 Personen verstarben an Covid-19. In den letzten 7 Tagen gab es durchschnittlich 5425.571428571428 Neuinfektionen pro Tag, 82.0 Personen mussten hospitalisiert werden und 17.142857142857142 Menschen verstarben. Seit Beginn der Pandemie infizierten sich 154251 Menschen. Es wurden gesamthaft 6707 Personen hospitalisiert und 2037.0 Menschen verstarben.\n"
          ],
          "name": "stdout"
        }
      ]
    },
    {
      "cell_type": "code",
      "metadata": {
        "id": "yhMq43c9NB4y"
      },
      "source": [
        ""
      ],
      "execution_count": null,
      "outputs": []
    },
    {
      "cell_type": "code",
      "metadata": {
        "id": "32IFdVVuN730"
      },
      "source": [
        "Fallzahlen_Minimal = df['Fallzahlen pro Tag'].min()"
      ],
      "execution_count": null,
      "outputs": []
    },
    {
      "cell_type": "code",
      "metadata": {
        "id": "NtEy_bh7Os67"
      },
      "source": [
        "Mein_Text_zwei = \"Am meisten Neuinfizierte {} gabe es am {}. Am wenigsten Neuinfizierte {} wurden am {} gemessen\".format(Fallzahlen_Maximal, Datum_eins, Fallzahlen_Minimal)"
      ],
      "execution_count": null,
      "outputs": []
    },
    {
      "cell_type": "code",
      "metadata": {
        "id": "6etF-SvuOzMH"
      },
      "source": [
        "print (Mein_Text_zwei)"
      ],
      "execution_count": null,
      "outputs": []
    }
  ]
}